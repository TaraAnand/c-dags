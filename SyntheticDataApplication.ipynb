{
 "cells": [
  {
   "cell_type": "code",
   "execution_count": null,
   "metadata": {},
   "outputs": [],
   "source": [
    "import numpy as np \n",
    "import random\n",
    "import matplotlib.pyplot as plt\n",
    "import pandas as pd"
   ]
  },
  {
   "cell_type": "code",
   "execution_count": null,
   "metadata": {},
   "outputs": [],
   "source": [
    "def testAllU(): \n",
    "    categorical = [0, 1, 2, 3]\n",
    "    binary = [0, 1]\n",
    "    U = {}\n",
    "    U['stroke'] = 800\n",
    "    res = []\n",
    "    ct = 1\n",
    "    for bmi_lisU in binary: \n",
    "        U['bmi_lis'] = bmi_lisU\n",
    "        for bmi_bpU in binary: \n",
    "            U['bmi_bp'] = bmi_bpU\n",
    "            for bmiU in categorical: \n",
    "                U['bmi'] = bmiU\n",
    "                for diabetes_bpU in binary: \n",
    "                    U['diabetes_bp'] = diabetes_bpU\n",
    "                    for diabetes_stressU in binary: \n",
    "                        U['diabetes_stress'] = diabetes_stressU\n",
    "                        for diabetesU in binary: \n",
    "                            U['diabetes'] = diabetesU\n",
    "                            for bpU in binary: \n",
    "                                U['bp'] = bpU\n",
    "                                for stress_bpU in categorical: \n",
    "                                    U['stress_bp'] = stress_bpU\n",
    "                                    for stressU in categorical: \n",
    "                                        U['stress'] = stressU\n",
    "                                        for stress_sleepU in binary: \n",
    "                                            U['stress_sleep'] = stress_sleepU\n",
    "                                            for stress_strokeU in binary: \n",
    "                                                U['stress_stroke'] = stress_strokeU\n",
    "                                                for sleepU in categorical: \n",
    "#                                                     print(ct)\n",
    "                                                    U['sleep'] = sleepU\n",
    "                                                    V = {}\n",
    "                                                    V['bmi'] = getBMI(U)\n",
    "                                                    V['diabetes']= getdiabetes(U, V)\n",
    "                                                    V['lis'] = getlisinopril(U,V)\n",
    "                                                    V['bp'] = getBP(U, V)\n",
    "                                                    V['stress'] = getstress(U,V)\n",
    "                                                    V['sleep'] = getsleep(U, V)\n",
    "                                                    V['stroke'], val = getstroke(U, V)\n",
    "                                                    res.append([U['bmi_lis'], U['bmi_bp'],  U['bmi'], U['diabetes_bp'], \n",
    "                                                                U['diabetes_stress'], U['diabetes'], U['bp'], U['stress_bp'],\n",
    "                                                               U['stress'], U['stress_sleep'], U['stress_stroke'], U['sleep'], \n",
    "                                                               V['bmi'], V['diabetes'], V['lis'], V['bp'], V['stress'], V['sleep'], V['stroke'], val])\n",
    "                                                    ct = ct +1\n",
    "    df = pd.DataFrame(res, columns = [\"U1\", \"U2\", \"U3\", \"U4\", \"U5\", \"U6\", \"U7\", \"U8\", \"U9\", \"U10\", \"U11\", \"U12\", \"bmi\", \"diabetes\", \"lis\", \"bp\", 'stress', 'sleep', 'stroke', 'val'])\n",
    "    return df"
   ]
  },
  {
   "cell_type": "code",
   "execution_count": null,
   "metadata": {},
   "outputs": [],
   "source": [
    "def generateU(): \n",
    "    categorical = [0, 1, 2, 3]\n",
    "    U = {}\n",
    "    U['bmi_lis'] = random.randint(0,1)\n",
    "    U['bmi_bp'] = random.randint(0,1)\n",
    "    U['bmi'] = random.choice(categorical)\n",
    "    U['diabetes_bp'] = random.randint(0,1)\n",
    "    U['diabetes_stress'] = random.randint(0,1)\n",
    "    U['diabetes'] = random.randint(0,1)\n",
    "    U['bp'] = random.randint(0,1)\n",
    "    U['stress_bp'] = random.choice(categorical)\n",
    "    U['stress'] = random.choice(categorical)\n",
    "    U['stress_sleep'] = random.randint(0,1)\n",
    "    U['stress_stroke'] = random.randint(0,1)\n",
    "    U['sleep'] = random.choice(categorical)\n",
    "    U['stroke'] = random.randint(0, 100000)\n",
    "    \n",
    "    "
   ]
  },
  {
   "cell_type": "code",
   "execution_count": null,
   "metadata": {},
   "outputs": [],
   "source": [
    "def getBMI(U):\n",
    "    val = U['bmi_lis'] + U['bmi_bp'] + U['bmi']\n",
    "    if val >= 4: \n",
    "        return 3\n",
    "    if val >= 2: \n",
    "        return 2\n",
    "    if val >= 0:\n",
    "        return 1"
   ]
  },
  {
   "cell_type": "code",
   "execution_count": null,
   "metadata": {},
   "outputs": [],
   "source": [
    "def getdiabetes(U, V): \n",
    "    if V['bmi'] == 3: \n",
    "        bmi = 1\n",
    "    elif V['bmi'] == 2:\n",
    "        bmi = 0\n",
    "    else:\n",
    "        bmi = -1\n",
    "    val = U['diabetes']*(V['bmi'] + U['diabetes_bp'] + U['diabetes_stress'])\n",
    "    if val >= 2: \n",
    "        return 1\n",
    "    else:\n",
    "        return 0"
   ]
  },
  {
   "cell_type": "code",
   "execution_count": null,
   "metadata": {},
   "outputs": [],
   "source": [
    "def getlisinopril(U, V): \n",
    "    if V['diabetes'] == 1: \n",
    "        return 0\n",
    "    else: \n",
    "        return int(not U['bmi_lis'])"
   ]
  },
  {
   "cell_type": "code",
   "execution_count": null,
   "metadata": {},
   "outputs": [],
   "source": [
    "def getBP(U,V): \n",
    "    val = U['bmi_bp'] + U['diabetes_bp'] + U['stress_bp'] + U['bp']\n",
    "    if V['lis'] == 1: \n",
    "        if int((U['stress_bp']>0) or U['bp']) == 1: \n",
    "            val = val/2\n",
    "    if val >=5: \n",
    "        return 3\n",
    "    elif val >= 3: \n",
    "        return 2\n",
    "    else:\n",
    "        return 1"
   ]
  },
  {
   "cell_type": "code",
   "execution_count": null,
   "metadata": {},
   "outputs": [],
   "source": [
    "def getstress(U, V): \n",
    "    val = U['diabetes_stress'] + U['stress_bp'] + U['stress'] + U['stress_sleep'] + U['stress_stroke']\n",
    "    if val > 6: \n",
    "        return 3\n",
    "    if val > 3: \n",
    "        return 2\n",
    "    else:\n",
    "        return 1"
   ]
  },
  {
   "cell_type": "code",
   "execution_count": null,
   "metadata": {},
   "outputs": [],
   "source": [
    "def getsleep(U, V): \n",
    "    val = U['sleep'] + (U['stress_sleep'] * int(not V['lis']))\n",
    "    if val == 0: \n",
    "        return 3\n",
    "    elif val == 1 or val == 2:\n",
    "        return 2\n",
    "    else: \n",
    "        return 1\n",
    "        "
   ]
  },
  {
   "cell_type": "code",
   "execution_count": null,
   "metadata": {},
   "outputs": [],
   "source": [
    "def getstroke(U, V): \n",
    "    val = V['sleep'] +  V['bp'] + V['diabetes'] + V['stress'] + U['stress_stroke']\n",
    "    if U['stroke'] < 200: \n",
    "        return 1\n",
    "    if U['stroke'] < 250 and val >= 9: \n",
    "        return 1\n",
    "    if U['stroke'] < 264 and val >= 10: \n",
    "        return 1\n",
    "    if U['stroke'] < 289 and val == 11: \n",
    "        return 1\n",
    "    if U['stroke'] < 705 and V['bp'] == 3: \n",
    "        return 1, val\n",
    "    else: \n",
    "        return 0, val\n",
    "    "
   ]
  },
  {
   "cell_type": "code",
   "execution_count": null,
   "metadata": {},
   "outputs": [],
   "source": [
    "def sample(): \n",
    "    U = generateU \n",
    "    V = {}\n",
    "    V['bmi'] = BMI(U)\n",
    "    V['diabetes']= diabetes(U, V)\n",
    "    V['lis'] = lisinopril(U,V)\n",
    "    V['bp'] = BP(U, V)\n",
    "    V['stress'] = stress(U,V)\n",
    "    V['sleep'] = sleep(U, V)\n",
    "    V['stroke'] = stroke(U, V)\n",
    "    "
   ]
  },
  {
   "cell_type": "code",
   "execution_count": null,
   "metadata": {},
   "outputs": [],
   "source": [
    "df = testAllU()"
   ]
  },
  {
   "cell_type": "code",
   "execution_count": null,
   "metadata": {},
   "outputs": [],
   "source": [
    "df.to_excel(\"all.xlsx\")"
   ]
  },
  {
   "cell_type": "code",
   "execution_count": null,
   "metadata": {},
   "outputs": [],
   "source": [
    "print(df['bmi'].unique())\n",
    "print(df['diabetes'].unique())\n",
    "print(df['lis'].unique())\n",
    "print(df['bp'].unique())\n",
    "print(df['stress'].unique())\n",
    "print(df['sleep'].unique())\n",
    "print(df['stroke'].unique())\n",
    "print(df['val'].unique())"
   ]
  },
  {
   "cell_type": "code",
   "execution_count": null,
   "metadata": {},
   "outputs": [],
   "source": [
    "# print(df['bp'].unique())\n",
    "print(df[df['stress']==3]['bp'].unique())\n",
    "print(df[df['sleep']==3]['bp'].unique())"
   ]
  },
  {
   "cell_type": "code",
   "execution_count": null,
   "metadata": {},
   "outputs": [],
   "source": [
    "\n",
    "p1 = (200/100000) \n",
    "p2 = (50/100000) * (len(df[df['val'] >= 9]) / len(df)) \n",
    "p3 = (10/100000) * (len(df[df['val'] >= 10]) / len(df)) \n",
    "p4 = (25/100000) * (len(df[df['val'] >= 11]) / len(df))\n",
    "p5 = len(df[df['bp'] == 3]) / len(df) * (705/100000) \n",
    "p1 + p2 + p3 + p4 + p5\n",
    "# print(p1, p2, p3, p4, p5)"
   ]
  },
  {
   "cell_type": "code",
   "execution_count": null,
   "metadata": {},
   "outputs": [],
   "source": []
  }
 ],
 "metadata": {
  "kernelspec": {
   "display_name": "Python 3",
   "language": "python",
   "name": "python3"
  },
  "language_info": {
   "codemirror_mode": {
    "name": "ipython",
    "version": 3
   },
   "file_extension": ".py",
   "mimetype": "text/x-python",
   "name": "python",
   "nbconvert_exporter": "python",
   "pygments_lexer": "ipython3",
   "version": "3.7.4"
  }
 },
 "nbformat": 4,
 "nbformat_minor": 2
}
